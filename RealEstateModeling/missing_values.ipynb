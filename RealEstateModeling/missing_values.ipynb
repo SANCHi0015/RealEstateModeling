{
 "cells": [
  {
   "cell_type": "code",
   "execution_count": 33,
   "metadata": {},
   "outputs": [],
   "source": [
    "import pandas as pd\n",
    "import numpy as np\n",
    "import seaborn as sns"
   ]
  },
  {
   "cell_type": "code",
   "execution_count": 34,
   "metadata": {},
   "outputs": [],
   "source": [
    "df = pd.read_csv('gurgaon_properties_v3.csv')"
   ]
  },
  {
   "cell_type": "code",
   "execution_count": 35,
   "metadata": {},
   "outputs": [
    {
     "data": {
      "text/plain": [
       "society                   2\n",
       "property_type             1\n",
       "sector                    0\n",
       "price                    19\n",
       "price_per_sq             19\n",
       "area                     19\n",
       "bedRoom                   1\n",
       "bathroom                  1\n",
       "balcony                   1\n",
       "floorNum                 21\n",
       "facing                    1\n",
       "agePossession             1\n",
       "furnish_score             1\n",
       "features_score            1\n",
       "study room                1\n",
       "servant room              1\n",
       "store room                1\n",
       "pooja room                1\n",
       "others                    1\n",
       "super_built_up_area    1902\n",
       "built_up_area          2629\n",
       "carpet_area            1873\n",
       "dtype: int64"
      ]
     },
     "execution_count": 35,
     "metadata": {},
     "output_type": "execute_result"
    }
   ],
   "source": [
    "df.isna().sum()"
   ]
  },
  {
   "cell_type": "code",
   "execution_count": 36,
   "metadata": {},
   "outputs": [],
   "source": [
    "df.drop(3816 ,inplace=True)"
   ]
  },
  {
   "cell_type": "code",
   "execution_count": 37,
   "metadata": {},
   "outputs": [
    {
     "name": "stderr",
     "output_type": "stream",
     "text": [
      "C:\\Users\\pc\\AppData\\Local\\Temp\\ipykernel_23956\\236524686.py:1: FutureWarning: A value is trying to be set on a copy of a DataFrame or Series through chained assignment using an inplace method.\n",
      "The behavior will change in pandas 3.0. This inplace method will never work because the intermediate object on which we are setting values always behaves as a copy.\n",
      "\n",
      "For example, when doing 'df[col].method(value, inplace=True)', try using 'df.method({col: value}, inplace=True)' or df[col] = df[col].method(value) instead, to perform the operation inplace on the original object.\n",
      "\n",
      "\n",
      "  df.society.fillna('independent' ,inplace=True)\n"
     ]
    }
   ],
   "source": [
    "df.society.fillna('independent' ,inplace=True)"
   ]
  },
  {
   "cell_type": "markdown",
   "metadata": {},
   "source": [
    "# ***FloorNum***"
   ]
  },
  {
   "cell_type": "code",
   "execution_count": 38,
   "metadata": {},
   "outputs": [
    {
     "data": {
      "text/plain": [
       "3.0"
      ]
     },
     "execution_count": 38,
     "metadata": {},
     "output_type": "execute_result"
    }
   ],
   "source": [
    "df[df.property_type == 'houses'].floorNum.median()"
   ]
  },
  {
   "cell_type": "code",
   "execution_count": 39,
   "metadata": {},
   "outputs": [
    {
     "name": "stderr",
     "output_type": "stream",
     "text": [
      "C:\\Users\\pc\\AppData\\Local\\Temp\\ipykernel_23956\\3548669136.py:1: FutureWarning: A value is trying to be set on a copy of a DataFrame or Series through chained assignment using an inplace method.\n",
      "The behavior will change in pandas 3.0. This inplace method will never work because the intermediate object on which we are setting values always behaves as a copy.\n",
      "\n",
      "For example, when doing 'df[col].method(value, inplace=True)', try using 'df.method({col: value}, inplace=True)' or df[col] = df[col].method(value) instead, to perform the operation inplace on the original object.\n",
      "\n",
      "\n",
      "  df.floorNum.fillna(3.0, inplace=True)\n"
     ]
    }
   ],
   "source": [
    "df.floorNum.fillna(3.0, inplace=True)"
   ]
  },
  {
   "cell_type": "code",
   "execution_count": 40,
   "metadata": {},
   "outputs": [
    {
     "data": {
      "text/plain": [
       "society                   0\n",
       "property_type             0\n",
       "sector                    0\n",
       "price                    18\n",
       "price_per_sq             18\n",
       "area                     18\n",
       "bedRoom                   0\n",
       "bathroom                  0\n",
       "balcony                   0\n",
       "floorNum                  0\n",
       "facing                    0\n",
       "agePossession             0\n",
       "furnish_score             0\n",
       "features_score            0\n",
       "study room                0\n",
       "servant room              0\n",
       "store room                0\n",
       "pooja room                0\n",
       "others                    0\n",
       "super_built_up_area    1901\n",
       "built_up_area          2628\n",
       "carpet_area            1872\n",
       "dtype: int64"
      ]
     },
     "execution_count": 40,
     "metadata": {},
     "output_type": "execute_result"
    }
   ],
   "source": [
    "df.isnull().sum()"
   ]
  },
  {
   "cell_type": "code",
   "execution_count": 41,
   "metadata": {},
   "outputs": [],
   "source": [
    "df = df[~df.price.isnull()]"
   ]
  },
  {
   "cell_type": "code",
   "execution_count": 42,
   "metadata": {},
   "outputs": [
    {
     "data": {
      "text/plain": [
       "floorNum              -0.095749\n",
       "carpet_area           -0.010145\n",
       "others                -0.007593\n",
       "built_up_area          0.005692\n",
       "area                   0.020427\n",
       "features_score         0.100788\n",
       "balcony                0.221979\n",
       "study room             0.258324\n",
       "store room             0.310369\n",
       "pooja room             0.344105\n",
       "price_per_sq           0.397428\n",
       "servant room           0.402216\n",
       "furnish_score          0.424391\n",
       "bedRoom                0.524497\n",
       "bathroom               0.593133\n",
       "super_built_up_area    0.770986\n",
       "price                  1.000000\n",
       "Name: price, dtype: float64"
      ]
     },
     "execution_count": 42,
     "metadata": {},
     "output_type": "execute_result"
    }
   ],
   "source": [
    "df.corr(numeric_only=True)['price'].sort_values(ascending=True)"
   ]
  },
  {
   "cell_type": "markdown",
   "metadata": {},
   "source": [
    "# ***Super Built Up Area***"
   ]
  },
  {
   "cell_type": "markdown",
   "metadata": {},
   "source": [
    "# ***Carpet Area***"
   ]
  },
  {
   "cell_type": "markdown",
   "metadata": {},
   "source": [
    "# ***Built up area***"
   ]
  },
  {
   "cell_type": "code",
   "execution_count": 43,
   "metadata": {},
   "outputs": [
    {
     "data": {
      "text/plain": [
       "price_per_sq          -0.022774\n",
       "others                -0.010799\n",
       "study room            -0.007613\n",
       "features_score        -0.004119\n",
       "servant room          -0.003542\n",
       "pooja room            -0.002807\n",
       "store room            -0.002167\n",
       "bedRoom                0.001138\n",
       "bathroom               0.004885\n",
       "price                  0.005692\n",
       "balcony                0.005815\n",
       "floorNum               0.008603\n",
       "furnish_score          0.024130\n",
       "super_built_up_area    0.954530\n",
       "carpet_area            0.971476\n",
       "area                   0.997758\n",
       "built_up_area          1.000000\n",
       "Name: built_up_area, dtype: float64"
      ]
     },
     "execution_count": 43,
     "metadata": {},
     "output_type": "execute_result"
    }
   ],
   "source": [
    "df.corr(numeric_only=True)['built_up_area'].sort_values(ascending=True)"
   ]
  },
  {
   "cell_type": "code",
   "execution_count": 44,
   "metadata": {},
   "outputs": [],
   "source": [
    "df1 = df[~(df.built_up_area.isnull())]\n",
    "df2 = df[df.built_up_area.isnull()]"
   ]
  },
  {
   "cell_type": "code",
   "execution_count": 45,
   "metadata": {},
   "outputs": [
    {
     "name": "stdout",
     "output_type": "stream",
     "text": [
      "Training Score: 0.7880\n",
      "Test Score: 0.7126\n"
     ]
    }
   ],
   "source": [
    "import pandas as pd\n",
    "import numpy as np\n",
    "from sklearn.model_selection import train_test_split\n",
    "from sklearn.preprocessing import OneHotEncoder, StandardScaler\n",
    "from sklearn.compose import ColumnTransformer\n",
    "from sklearn.pipeline import Pipeline\n",
    "from sklearn.linear_model import LinearRegression\n",
    "from sklearn.ensemble import RandomForestRegressor\n",
    "\n",
    "# Assuming your data is in a pandas DataFrame called df\n",
    "# df = pd.read_csv('your_data.csv')  # Replace with your actual data loading method\n",
    "\n",
    "# Define the features and target\n",
    "X = df1.drop(columns=['built_up_area'])\n",
    "y = df1['built_up_area']\n",
    "\n",
    "# Define which columns are categorical and which are numerical\n",
    "categorical_features = ['sector' ,'society', 'property_type', 'facing', 'agePossession']\n",
    "numerical_features = ['price', 'price_per_sq', 'bedRoom', 'bathroom', 'balcony', \n",
    "                      'floorNum', 'furnish_score', 'features_score', 'study room', \n",
    "                      'servant room', 'store room', 'pooja room', 'others' \n",
    "                      ]\n",
    "\n",
    "# Create the column transformer\n",
    "preprocessor = ColumnTransformer(\n",
    "    transformers=[\n",
    "        ('num', StandardScaler(), numerical_features),\n",
    "        ('cat', OneHotEncoder(handle_unknown='ignore'), categorical_features)\n",
    "    ])\n",
    "\n",
    "# Create the pipeline\n",
    "model = Pipeline(steps=[\n",
    "    ('preprocessor', preprocessor),\n",
    "    ('regressor',RandomForestRegressor(n_estimators=100 , random_state=42))\n",
    "])\n",
    "\n",
    "# Split the data into training and testing sets\n",
    "X_train, X_test, y_train, y_test = train_test_split(X, y, test_size=0.2, random_state=42)\n",
    "\n",
    "# K-fold cross-validation\n",
    "# kfold = KFold(n_splits=10, shuffle=True, random_state=42)\n",
    "# scores = cross_val_score(model, X, y, cv=kfold, scoring='r2')\n",
    "\n",
    "# Fit the model\n",
    "model.fit(X_train, y_train)\n",
    "\n",
    "# Check the model's performance\n",
    "train_score = model.score(X_train, y_train)\n",
    "test_score = model.score(X_test, y_test)\n",
    "\n",
    "print(f'Training Score: {train_score:.4f}')\n",
    "print(f'Test Score: {test_score:.4f}')"
   ]
  },
  {
   "cell_type": "code",
   "execution_count": 46,
   "metadata": {},
   "outputs": [],
   "source": [
    "x = df2.drop(columns='built_up_area')\n",
    "\n",
    "resetIndex_x = x.reset_index()\n",
    "\n",
    "predicted = model.predict(x)\n",
    "\n",
    "y = pd.Series(predicted)\n",
    "\n",
    "merged_df = pd.concat([resetIndex_x,y] ,axis=1, join='outer')\n",
    "\n",
    "merged_df.rename(columns={\n",
    "    0 : 'built_up_area'\n",
    "},inplace=True)\n",
    "\n",
    "merged_df.set_index('index' , inplace=True)\n",
    "\n",
    "merged_df.index.name = None\n",
    "\n",
    "df2.update(merged_df)\n",
    "\n",
    "df.update(df2)\n"
   ]
  },
  {
   "cell_type": "code",
   "execution_count": 47,
   "metadata": {},
   "outputs": [
    {
     "data": {
      "text/plain": [
       "floorNum              -0.095749\n",
       "built_up_area         -0.018977\n",
       "carpet_area           -0.010145\n",
       "others                -0.007593\n",
       "area                   0.020427\n",
       "features_score         0.100788\n",
       "balcony                0.221979\n",
       "study room             0.258324\n",
       "store room             0.310369\n",
       "pooja room             0.344105\n",
       "price_per_sq           0.397428\n",
       "servant room           0.402216\n",
       "furnish_score          0.424391\n",
       "bedRoom                0.524497\n",
       "bathroom               0.593133\n",
       "super_built_up_area    0.770986\n",
       "price                  1.000000\n",
       "Name: price, dtype: float64"
      ]
     },
     "execution_count": 47,
     "metadata": {},
     "output_type": "execute_result"
    }
   ],
   "source": [
    "df.corr(numeric_only=True)['price'].sort_values()"
   ]
  },
  {
   "cell_type": "code",
   "execution_count": 48,
   "metadata": {},
   "outputs": [],
   "source": [
    "df.drop(columns=['super_built_up_area' , 'carpet_area' , 'built_up_area'], inplace=True)"
   ]
  },
  {
   "cell_type": "code",
   "execution_count": 53,
   "metadata": {},
   "outputs": [],
   "source": [
    "df.agePossession = df.agePossession.str.lower()"
   ]
  },
  {
   "cell_type": "code",
   "execution_count": 54,
   "metadata": {},
   "outputs": [],
   "source": [
    "df.to_csv('gurgaon_v4.csv' , index=False)"
   ]
  },
  {
   "cell_type": "code",
   "execution_count": 50,
   "metadata": {},
   "outputs": [
    {
     "name": "stdout",
     "output_type": "stream",
     "text": [
      "<class 'pandas.core.frame.DataFrame'>\n",
      "Index: 3798 entries, 0 to 3815\n",
      "Data columns (total 19 columns):\n",
      " #   Column          Non-Null Count  Dtype  \n",
      "---  ------          --------------  -----  \n",
      " 0   society         3798 non-null   object \n",
      " 1   property_type   3798 non-null   object \n",
      " 2   sector          3798 non-null   object \n",
      " 3   price           3798 non-null   float64\n",
      " 4   price_per_sq    3798 non-null   float64\n",
      " 5   area            3798 non-null   float64\n",
      " 6   bedRoom         3798 non-null   float64\n",
      " 7   bathroom        3798 non-null   float64\n",
      " 8   balcony         3798 non-null   float64\n",
      " 9   floorNum        3798 non-null   float64\n",
      " 10  facing          3798 non-null   object \n",
      " 11  agePossession   3798 non-null   object \n",
      " 12  furnish_score   3798 non-null   float64\n",
      " 13  features_score  3798 non-null   float64\n",
      " 14  study room      3798 non-null   float64\n",
      " 15  servant room    3798 non-null   float64\n",
      " 16  store room      3798 non-null   float64\n",
      " 17  pooja room      3798 non-null   float64\n",
      " 18  others          3798 non-null   float64\n",
      "dtypes: float64(14), object(5)\n",
      "memory usage: 593.4+ KB\n"
     ]
    }
   ],
   "source": [
    "df.info()"
   ]
  }
 ],
 "metadata": {
  "kernelspec": {
   "display_name": "Python 3",
   "language": "python",
   "name": "python3"
  },
  "language_info": {
   "codemirror_mode": {
    "name": "ipython",
    "version": 3
   },
   "file_extension": ".py",
   "mimetype": "text/x-python",
   "name": "python",
   "nbconvert_exporter": "python",
   "pygments_lexer": "ipython3",
   "version": "3.12.3"
  }
 },
 "nbformat": 4,
 "nbformat_minor": 2
}
