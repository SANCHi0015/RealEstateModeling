{
 "cells": [
  {
   "cell_type": "code",
   "execution_count": 2,
   "metadata": {},
   "outputs": [],
   "source": [
    "import pandas as pd"
   ]
  },
  {
   "cell_type": "code",
   "execution_count": 3,
   "metadata": {},
   "outputs": [],
   "source": [
    "flats = pd.read_csv('flats.csv')\n",
    "houses = pd.read_csv('houses.csv')"
   ]
  },
  {
   "cell_type": "code",
   "execution_count": 4,
   "metadata": {},
   "outputs": [
    {
     "name": "stdout",
     "output_type": "stream",
     "text": [
      "<class 'pandas.core.frame.DataFrame'>\n",
      "RangeIndex: 3017 entries, 0 to 3016\n",
      "Data columns (total 20 columns):\n",
      " #   Column           Non-Null Count  Dtype \n",
      "---  ------           --------------  ----- \n",
      " 0   property_name    3017 non-null   object\n",
      " 1   link             3017 non-null   object\n",
      " 2   society          3016 non-null   object\n",
      " 3   price            3007 non-null   object\n",
      " 4   area             3004 non-null   object\n",
      " 5   areaWithType     3008 non-null   object\n",
      " 6   bedRoom          3008 non-null   object\n",
      " 7   bathroom         3008 non-null   object\n",
      " 8   balcony          3008 non-null   object\n",
      " 9   additionalRoom   1694 non-null   object\n",
      " 10  address          3002 non-null   object\n",
      " 11  floorNum         3006 non-null   object\n",
      " 12  facing           2127 non-null   object\n",
      " 13  agePossession    3007 non-null   object\n",
      " 14  nearbyLocations  2913 non-null   object\n",
      " 15  description      3008 non-null   object\n",
      " 16  furnishDetails   2203 non-null   object\n",
      " 17  features         2594 non-null   object\n",
      " 18  rating           2676 non-null   object\n",
      " 19  property_id      3008 non-null   object\n",
      "dtypes: object(20)\n",
      "memory usage: 471.5+ KB\n"
     ]
    }
   ],
   "source": [
    "flats.info()"
   ]
  },
  {
   "cell_type": "code",
   "execution_count": 5,
   "metadata": {},
   "outputs": [],
   "source": [
    "flats = flats.drop(columns=[\"property_id\" , \"link\"])"
   ]
  },
  {
   "cell_type": "code",
   "execution_count": 6,
   "metadata": {},
   "outputs": [],
   "source": [
    "# flats.society.str.replace(\"★\",\"\").unique()\n",
    "import re\n",
    "flats['society'] = flats.society.apply(lambda name: re.sub(r'\\d+\\.\\d+?\\s?★', '', str(name)).strip()).str.lower()\n"
   ]
  },
  {
   "cell_type": "code",
   "execution_count": 7,
   "metadata": {},
   "outputs": [],
   "source": [
    "flats = flats[flats['price'] != \"Price on Request\"]"
   ]
  },
  {
   "cell_type": "code",
   "execution_count": null,
   "metadata": {},
   "outputs": [],
   "source": []
  },
  {
   "cell_type": "code",
   "execution_count": 8,
   "metadata": {},
   "outputs": [],
   "source": [
    "def lac(x):\n",
    "    if(type(x) == float):\n",
    "        return x\n",
    "    else:\n",
    "        if (x[1] == \"Lac\"):\n",
    "            return round(float (x[0])/100,2)\n",
    "        else:\n",
    "            return round(float (x[0]),2)\n",
    "    "
   ]
  },
  {
   "cell_type": "code",
   "execution_count": 9,
   "metadata": {},
   "outputs": [],
   "source": [
    "flats['price'] = flats['price'].str.split(\" \").apply(lac)"
   ]
  },
  {
   "cell_type": "code",
   "execution_count": 10,
   "metadata": {},
   "outputs": [],
   "source": [
    "flats.rename(columns={\"area\" :\"price_per_sq\"} , inplace=True)"
   ]
  },
  {
   "cell_type": "code",
   "execution_count": 11,
   "metadata": {},
   "outputs": [],
   "source": [
    "price_per_sq = flats.price_per_sq.str.replace(\"/sq.ft.\", \"\").str.replace(\",\" , \"\").str.split(\" \" , expand=True).set_axis([\"rs\" , \"price\" ], axis=1)"
   ]
  },
  {
   "cell_type": "code",
   "execution_count": 12,
   "metadata": {},
   "outputs": [],
   "source": [
    "flats[\"price_per_sq\"] = price_per_sq[\"price\"]"
   ]
  },
  {
   "cell_type": "code",
   "execution_count": 13,
   "metadata": {},
   "outputs": [],
   "source": [
    "flats['price_per_sq'] = flats['price_per_sq'].astype(float)"
   ]
  },
  {
   "cell_type": "code",
   "execution_count": 14,
   "metadata": {},
   "outputs": [
    {
     "data": {
      "text/plain": [
       "array(['Carpet area: 900 (83.61 sq.m.)', 'Carpet area: 650 (60.39 sq.m.)',\n",
       "       'Carpet area: 595 (55.28 sq.m.)', ...,\n",
       "       'Super Built up area 1822(169.27 sq.m.)',\n",
       "       'Built Up area: 3700 (343.74 sq.m.)',\n",
       "       'Super Built up area 3123(290.14 sq.m.)'], dtype=object)"
      ]
     },
     "execution_count": 14,
     "metadata": {},
     "output_type": "execute_result"
    }
   ],
   "source": [
    "flats.areaWithType.unique()"
   ]
  },
  {
   "cell_type": "code",
   "execution_count": 15,
   "metadata": {},
   "outputs": [
    {
     "data": {
      "text/plain": [
       "array(['2 Bedrooms', '3 Bedrooms', '4 Bedrooms', '1 Bedroom',\n",
       "       '5 Bedrooms', '6 Bedrooms', nan], dtype=object)"
      ]
     },
     "execution_count": 15,
     "metadata": {},
     "output_type": "execute_result"
    }
   ],
   "source": [
    "flats.bedRoom.unique()"
   ]
  },
  {
   "cell_type": "code",
   "execution_count": 16,
   "metadata": {},
   "outputs": [],
   "source": [
    "flats = flats[~flats.bedRoom.isnull()]"
   ]
  },
  {
   "cell_type": "code",
   "execution_count": 17,
   "metadata": {},
   "outputs": [],
   "source": [
    "flats['bedRoom'] = flats.bedRoom.str.replace(\"Bedrooms\" , \"\").str.replace(\"Bedroom\",\"\")"
   ]
  },
  {
   "cell_type": "code",
   "execution_count": 18,
   "metadata": {},
   "outputs": [],
   "source": [
    "flats.bedRoom = flats['bedRoom'].astype(int)"
   ]
  },
  {
   "cell_type": "code",
   "execution_count": 19,
   "metadata": {},
   "outputs": [
    {
     "data": {
      "text/plain": [
       "array(['2 Bathrooms', '3 Bathrooms', '4 Bathrooms', '5 Bathrooms',\n",
       "       '1 Bathroom', '6 Bathrooms', '7 Bathrooms'], dtype=object)"
      ]
     },
     "execution_count": 19,
     "metadata": {},
     "output_type": "execute_result"
    }
   ],
   "source": [
    "flats.bathroom.unique()"
   ]
  },
  {
   "cell_type": "code",
   "execution_count": 20,
   "metadata": {},
   "outputs": [],
   "source": [
    "flats['bathroom'] = flats.bathroom.str.replace(\"Bathrooms\" , \"\").str.replace(\"Bathroom\",\"\")"
   ]
  },
  {
   "cell_type": "code",
   "execution_count": 21,
   "metadata": {},
   "outputs": [],
   "source": [
    "flats.bathroom = flats.bathroom.astype(int)"
   ]
  },
  {
   "cell_type": "code",
   "execution_count": 22,
   "metadata": {},
   "outputs": [
    {
     "data": {
      "text/plain": [
       "array(['1 Balcony', '3 Balconies', '2 Balconies', '3+ Balconies',\n",
       "       'No Balcony'], dtype=object)"
      ]
     },
     "execution_count": 22,
     "metadata": {},
     "output_type": "execute_result"
    }
   ],
   "source": [
    "flats.balcony.unique()"
   ]
  },
  {
   "cell_type": "code",
   "execution_count": 23,
   "metadata": {},
   "outputs": [],
   "source": [
    "flats['balcony'] = flats.balcony.str.replace(\"Balconies\" , \"\").str.replace(\"Balcony\",\"\").str.replace(\"No\", \"0\").str.replace(\"+\" , \"\")"
   ]
  },
  {
   "cell_type": "code",
   "execution_count": 24,
   "metadata": {},
   "outputs": [],
   "source": [
    "flats.balcony = flats.balcony.astype(int)"
   ]
  },
  {
   "cell_type": "code",
   "execution_count": 25,
   "metadata": {},
   "outputs": [
    {
     "name": "stderr",
     "output_type": "stream",
     "text": [
      "C:\\Users\\pc\\AppData\\Local\\Temp\\ipykernel_25420\\1999415726.py:1: FutureWarning: A value is trying to be set on a copy of a DataFrame or Series through chained assignment using an inplace method.\n",
      "The behavior will change in pandas 3.0. This inplace method will never work because the intermediate object on which we are setting values always behaves as a copy.\n",
      "\n",
      "For example, when doing 'df[col].method(value, inplace=True)', try using 'df.method({col: value}, inplace=True)' or df[col] = df[col].method(value) instead, to perform the operation inplace on the original object.\n",
      "\n",
      "\n",
      "  flats.additionalRoom.fillna(\"not available\" , inplace=True)\n"
     ]
    }
   ],
   "source": [
    "flats.additionalRoom.fillna(\"not available\" , inplace=True)"
   ]
  },
  {
   "cell_type": "code",
   "execution_count": 26,
   "metadata": {},
   "outputs": [],
   "source": [
    "flats.additionalRoom = flats.additionalRoom.str.lower()"
   ]
  },
  {
   "cell_type": "code",
   "execution_count": 27,
   "metadata": {},
   "outputs": [
    {
     "name": "stderr",
     "output_type": "stream",
     "text": [
      "C:\\Users\\pc\\AppData\\Local\\Temp\\ipykernel_25420\\1360539385.py:1: FutureWarning: A value is trying to be set on a copy of a DataFrame or Series through chained assignment using an inplace method.\n",
      "The behavior will change in pandas 3.0. This inplace method will never work because the intermediate object on which we are setting values always behaves as a copy.\n",
      "\n",
      "For example, when doing 'df[col].method(value, inplace=True)', try using 'df.method({col: value}, inplace=True)' or df[col] = df[col].method(value) instead, to perform the operation inplace on the original object.\n",
      "\n",
      "\n",
      "  flats.address.fillna(\"Na\" , inplace=True)\n"
     ]
    }
   ],
   "source": [
    "flats.address.fillna(\"Na\" , inplace=True)"
   ]
  },
  {
   "cell_type": "code",
   "execution_count": 28,
   "metadata": {},
   "outputs": [],
   "source": [
    "flats.address = flats.address.str.lower()"
   ]
  },
  {
   "cell_type": "code",
   "execution_count": 29,
   "metadata": {},
   "outputs": [],
   "source": [
    "flats.floorNum = (\n",
    "    flats.floorNum.str.split(\" \").str.get(0)\n",
    "    .str.replace(\"Basement\" , \"-1\")\n",
    "    .str.replace(\"Ground\",\"0\")\n",
    "    .str.replace(\"Lower\" , \"0\").str.extract(r\"(\\d+)\")\n",
    ")\n"
   ]
  },
  {
   "cell_type": "code",
   "execution_count": 30,
   "metadata": {},
   "outputs": [
    {
     "name": "stderr",
     "output_type": "stream",
     "text": [
      "C:\\Users\\pc\\AppData\\Local\\Temp\\ipykernel_25420\\283044831.py:1: FutureWarning: A value is trying to be set on a copy of a DataFrame or Series through chained assignment using an inplace method.\n",
      "The behavior will change in pandas 3.0. This inplace method will never work because the intermediate object on which we are setting values always behaves as a copy.\n",
      "\n",
      "For example, when doing 'df[col].method(value, inplace=True)', try using 'df.method({col: value}, inplace=True)' or df[col] = df[col].method(value) instead, to perform the operation inplace on the original object.\n",
      "\n",
      "\n",
      "  flats.facing.fillna(\"Na\",inplace=True)\n"
     ]
    }
   ],
   "source": [
    "flats.facing.fillna(\"Na\",inplace=True)"
   ]
  },
  {
   "cell_type": "code",
   "execution_count": 31,
   "metadata": {},
   "outputs": [],
   "source": [
    "flats.facing = flats.facing.str.lower()"
   ]
  },
  {
   "cell_type": "code",
   "execution_count": 32,
   "metadata": {},
   "outputs": [],
   "source": [
    "flats.nearbyLocations = flats.nearbyLocations.str.lower()"
   ]
  },
  {
   "cell_type": "code",
   "execution_count": 33,
   "metadata": {},
   "outputs": [],
   "source": [
    "flats.furnishDetails = flats.furnishDetails.str.lower()"
   ]
  },
  {
   "cell_type": "code",
   "execution_count": 34,
   "metadata": {},
   "outputs": [],
   "source": [
    "flats.features = flats.features.str.lower()"
   ]
  },
  {
   "cell_type": "code",
   "execution_count": 35,
   "metadata": {},
   "outputs": [],
   "source": [
    "flats.rating = flats.rating.str.lower()"
   ]
  },
  {
   "cell_type": "code",
   "execution_count": null,
   "metadata": {},
   "outputs": [],
   "source": [
    "flats.insert(column=\"area\" , value=\"\" ,loc=4)"
   ]
  },
  {
   "cell_type": "code",
   "execution_count": 43,
   "metadata": {},
   "outputs": [],
   "source": [
    "flats.area = round((flats.price * 10000000) / flats.price_per_sq)"
   ]
  },
  {
   "cell_type": "code",
   "execution_count": null,
   "metadata": {},
   "outputs": [],
   "source": [
    "flats.insert(column=\"property_type\" , value=\"flats\" , loc=2)"
   ]
  },
  {
   "cell_type": "code",
   "execution_count": 47,
   "metadata": {},
   "outputs": [],
   "source": [
    "flats.to_csv(\"flats_cleaned.csv\")"
   ]
  },
  {
   "cell_type": "code",
   "execution_count": 47,
   "metadata": {},
   "outputs": [],
   "source": [
    "flats.to_csv(\"flats_cleaned.csv\")"
   ]
  }
 ],
 "metadata": {
  "kernelspec": {
   "display_name": "Python 3",
   "language": "python",
   "name": "python3"
  },
  "language_info": {
   "codemirror_mode": {
    "name": "ipython",
    "version": 3
   },
   "file_extension": ".py",
   "mimetype": "text/x-python",
   "name": "python",
   "nbconvert_exporter": "python",
   "pygments_lexer": "ipython3",
   "version": "3.12.3"
  }
 },
 "nbformat": 4,
 "nbformat_minor": 2
}
